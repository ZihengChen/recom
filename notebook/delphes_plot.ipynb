{
 "cells": [
  {
   "cell_type": "code",
   "execution_count": 1,
   "metadata": {},
   "outputs": [],
   "source": [
    "from DelphesUltility import *\n",
    "from pylab import *\n",
    "import os\n",
    "from matplotlib.lines import Line2D"
    
   ]
  },
  {
   "cell_type": "code",
   "execution_count": 2,
   "metadata": {},
   "outputs": [],
   "source": [
    "channel = 'eeg'"
   ]
  },
  {
   "cell_type": "code",
   "execution_count": 3,
   "metadata": {},
   "outputs": [],
   "source": [
    "models = [\"Gp3TeV_Th1TeV_Ph300GeV\",\"Gp3TeV_Th1TeV_Ph400GeV\",\"Gp3TeV_Th1TeV_Ph500GeV\"]\n",
    "        \n",
    "# read dfs for models\n",
    "pickleDir = BASEDIR+'/data/delphes/pickle'\n",
    "dfsGen = [pd.read_pickle(\"{}/{}_{}_gen.pkl\".format(pickleDir,model,channel)) for model in models]\n",
    "dfs = [pd.read_pickle(\"{}/{}_{}.pkl\".format(pickleDir,model,channel)) for model in models]\n",
    "\n",
    "# load plotting config\n",
    "configs = pd.read_csv(BASEDIR+'/data/delphes/csv/plotConfig.csv')\n",
    "\n",
    "# create folders for saving plots\n",
    "pathCombine = BASEDIR+\"/plots/delphes_{}_combine\".format(channel)\n",
    "paths = [BASEDIR+\"/plots/delphes_{}_{}\".format(channel,model) for model in models]\n",
    "for p in [pathCombine]+paths:\n",
    "    if not os.path.exists(p): os.mkdir(p)"
   ]
  },
  {
   "cell_type": "markdown",
   "metadata": {},
   "source": [
    "## 1. Plot for each model"
   ]
  },
  {
   "cell_type": "code",
   "execution_count": 4,
   "metadata": {},
   "outputs": [],
   "source": [
    "def plot_split(config):\n",
    "    v, a, b, step, xl = config\n",
    "    mybin = np.arange(a,b,step)\n",
    "    \n",
    "    for i in range(len(models)):\n",
    "        plt.figure(facecolor=\"w\",figsize=(5,6))\n",
    "        h = plt.hist(dfsGen[i][v], mybin, histtype='step', color=\"C0\", lw=1, linestyle=\"-\",\n",
    "                 alpha=1.0,label=\"Gen n={}\".format(len(dfsGen[i])))\n",
    "        ynorm = h[0].max()\n",
    "        plt.hist(dfs[i][v], mybin, histtype='stepfilled', color=\"C0\", lw=2, linestyle=\"-\",\n",
    "                 alpha=0.6, label=\"Delphes w/ cuts n={}\".format(len(dfs[i])))\n",
    "        \n",
    "        plt.xlabel(xl, fontsize=11)\n",
    "        plt.ylim(0,1.3*ynorm)\n",
    "        plt.grid(color='grey',linestyle=\"--\",alpha=0.3)\n",
    "        plt.legend(loc=\"best\", fontsize=10)\n",
    "        plt.title(models[i])\n",
    "        plt.savefig(paths[i]+\"/{}.png\".format(v),dpi=300)\n",
    "        plt.close()"
   ]
  },
  {
   "cell_type": "code",
   "execution_count": 5,
   "metadata": {},
   "outputs": [],
   "source": [
    "for i, row in configs.iterrows():\n",
    "    config = (row['v'], row['a'], row['b'], row['step'], row['xl'])\n",
    "    plot_split(config)"
   ]
  },
  {
   "cell_type": "markdown",
   "metadata": {},
   "source": [
    "## 2. Plot overlayed models"
   ]
  },
  {
   "cell_type": "code",
   "execution_count": 6,
   "metadata": {},
   "outputs": [],
   "source": [
    "def plot_combine(config):\n",
    "    v, a, b, step, xl = config\n",
    "    mybin = np.arange(a,b,step)\n",
    "    \n",
    "    plt.figure(facecolor=\"w\",figsize=(5,6))\n",
    "    ax = plt.gca()\n",
    "    \n",
    "    ynorm = 0\n",
    "    for i,model in enumerate(models):\n",
    "        h = plt.hist(dfsGen[i][v], mybin, histtype='step', color=\"C\"+str(i), lw=1, linestyle=\"--\",\n",
    "                 alpha=1.0,label=\"Gen n={}\".format(len(dfsGen[i])))\n",
    "        ynorm = max(ynorm, h[0].max())\n",
    "        \n",
    "        plt.hist(dfs[i][v], mybin, histtype='step', color=\"C\"+str(i), lw=3, linestyle=\"-\",\n",
    "                 alpha=0.6, label=\"Delphes w/ cuts n={}\".format(len(dfs[i])))\n",
    "        \n",
    "        plt.text(0.05,(19-i)/20, model, color=\"C\"+str(i),transform=ax.transAxes)\n",
    "    \n",
    "    \n",
    "    legend_elements = [Line2D([0], [0], color='k', lw=1, linestyle=\"--\", label='Gen'),\n",
    "        Line2D([0], [0], color='k', lw=3, linestyle=\"-\", label='Delphes w/ cuts')]\n",
    "    ax.legend(handles=legend_elements, loc='best')\n",
    "    plt.xlabel(xl)\n",
    "    plt.ylim(0,1.3*ynorm)\n",
    "    plt.grid(color='grey',linestyle=\"--\",alpha=0.3)\n",
    "    plt.savefig(pathCombine+\"/{}.png\".format(v),dpi=300)\n",
    "    plt.close()"
   ]
  },
  {
   "cell_type": "code",
   "execution_count": 7,
   "metadata": {},
   "outputs": [],
   "source": [
    "for i, row in configs.iterrows():\n",
    "    config = (row['v'], row['a'], row['b'], row['step'], row['xl'])\n",
    "    plot_combine(config)"
   ]
  },
  {
   "cell_type": "code",
   "execution_count": null,
   "metadata": {},
   "outputs": [],
   "source": []
  }
 ],
 "metadata": {
  "kernelspec": {
   "display_name": "Python 3",
   "language": "python",
   "name": "python3"
  },
  "language_info": {
   "codemirror_mode": {
    "name": "ipython",
    "version": 3
   },
   "file_extension": ".py",
   "mimetype": "text/x-python",
   "name": "python",
   "nbconvert_exporter": "python",
   "pygments_lexer": "ipython3",
   "version": "3.7.4"
  }
 },
 "nbformat": 4,
 "nbformat_minor": 2
}
