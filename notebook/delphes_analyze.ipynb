{
 "cells": [
  {
   "cell_type": "code",
   "execution_count": 1,
   "metadata": {},
   "outputs": [],
   "source": [
    "from DelphesAnalyzer import *\n",
    "from DelphesAnalyzerGen import *"
    
   ]
  },
  {
   "cell_type": "code",
   "execution_count": 2,
   "metadata": {},
   "outputs": [],
   "source": [
    "models = [\"Gp3TeV_Th1TeV_Ph300GeV\",\"Gp3TeV_Th1TeV_Ph400GeV\",\"Gp3TeV_Th1TeV_Ph500GeV\"]\n",
    "channels = ['eeg']"
   ]
  },
  {
   "cell_type": "markdown",
   "metadata": {},
   "source": [
    "### 1. Analyze Gen Events"
   ]
  },
  {
   "cell_type": "code",
   "execution_count": 3,
   "metadata": {},
   "outputs": [
    {
     "name": "stdout",
     "output_type": "stream",
     "text": [
      "Gp3TeV_Th1TeV_Ph300GeV eeg n= 10000\n",
      "Gp3TeV_Th1TeV_Ph400GeV eeg n= 10000\n",
      "Gp3TeV_Th1TeV_Ph500GeV eeg n= 10000\n"
     ]
    }
   ],
   "source": [
    "for model in models:\n",
    "    for channel in channels:\n",
    "        inFileName  = \"{}/data/delphes/root/{}_{}.root\".format(BASEDIR,model,channel)\n",
    "        outFileName = \"{}/data/delphes/pickle/{}_{}_gen.pkl\".format(BASEDIR,model,channel)\n",
    "        ana = DelphesAnalyzerGen(inFileName)\n",
    "        ana.run()\n",
    "        print(model, channel, \"n=\", len(ana.out_gen))\n",
    "        ana.out_gen.to_pickle(outFileName)"
   ]
  },
  {
   "cell_type": "markdown",
   "metadata": {},
   "source": [
    "### 2. Analyze Delphes Simulated Events (Kinematics Cuts Applied)"
   ]
  },
  {
   "cell_type": "code",
   "execution_count": 3,
   "metadata": {},
   "outputs": [
    {
     "name": "stdout",
     "output_type": "stream",
     "text": [
      "Gp3TeV_Th1TeV_Ph300GeV eeg n= 1625\n",
      "Gp3TeV_Th1TeV_Ph400GeV eeg n= 3494\n",
      "Gp3TeV_Th1TeV_Ph500GeV eeg n= 3936\n"
     ]
    }
   ],
   "source": [
    "for model in models:\n",
    "    for channel in channels:\n",
    "        inFileName  = \"{}/data/delphes/root/{}_{}.root\".format(BASEDIR,model,channel)\n",
    "        outFileName = \"{}/data/delphes/pickle/{}_{}.pkl\".format(BASEDIR,model,channel)\n",
    "        ana = DelphesAnalyzer(inFileName)\n",
    "        ana.run()\n",
    "        print(model, channel, \"n=\", len(eval(\"ana.out_{}\".format(channel))))\n",
    "        eval(\"ana.out_{}\".format(channel)).to_pickle(outFileName)"
   ]
  },
  {
   "cell_type": "code",
   "execution_count": null,
   "metadata": {},
   "outputs": [],
   "source": []
  }
 ],
 "metadata": {
  "kernelspec": {
   "display_name": "Python 3",
   "language": "python",
   "name": "python3"
  },
  "language_info": {
   "codemirror_mode": {
    "name": "ipython",
    "version": 3
   },
   "file_extension": ".py",
   "mimetype": "text/x-python",
   "name": "python",
   "nbconvert_exporter": "python",
   "pygments_lexer": "ipython3",
   "version": "3.7.4"
  }
 },
 "nbformat": 4,
 "nbformat_minor": 2
}
